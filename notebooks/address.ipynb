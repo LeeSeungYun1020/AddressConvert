{
 "cells": [
  {
   "cell_type": "code",
   "execution_count": 1,
   "metadata": {
    "collapsed": true,
    "pycharm": {
     "name": "#%%\n"
    }
   },
   "outputs": [],
   "source": [
    "import pandas as pd"
   ]
  },
  {
   "cell_type": "code",
   "execution_count": 2,
   "outputs": [],
   "source": [
    "fileName = input(\"파일 이름을 입력하세요.\")"
   ],
   "metadata": {
    "collapsed": false,
    "pycharm": {
     "name": "#%%\n"
    }
   }
  },
  {
   "cell_type": "code",
   "execution_count": 6,
   "outputs": [
    {
     "data": {
      "text/plain": "   areacode cat1   cat2       cat3  contentid  contenttypeid     createdtime  \\\n0       1.0  B02  B0201  B02010900    1932216             32  20140704173731   \n1       1.0  A02  A0206  A02061000     130285             14  20071106105026   \n2       1.0  B02  B0201  B02011100    2603706             32  20190529101649   \n3       1.0  A05  A0502  A05020200    2773281             39  20211111094611   \n4       1.0  A01  A0102  A01020100    2611482             12  20190717111103   \n\n                                          firstimage  \\\n0  http://tong.visitkorea.or.kr/cms/resource/79/1...   \n1  http://tong.visitkorea.or.kr/cms/resource/26/2...   \n2                                                NaN   \n3  http://tong.visitkorea.or.kr/cms/resource/71/2...   \n4  http://tong.visitkorea.or.kr/cms/resource/79/2...   \n\n                                         firstimage2        mapx       mapy  \\\n0  http://tong.visitkorea.or.kr/cms/resource/79/1...  126.993836  37.564463   \n1  http://tong.visitkorea.or.kr/cms/resource/26/2...  126.977982  37.570976   \n2                                                NaN  126.981957  37.560427   \n3  http://tong.visitkorea.or.kr/cms/resource/71/2...  127.042447  37.526966   \n4  http://tong.visitkorea.or.kr/cms/resource/79/2...  126.868793  37.537686   \n\n   mlevel    modifiedtime  readcount  sigungucode                title  \\\n0     6.0  20211117142005     6113.0         24.0  (K-POP)케이팝레지던스 충무로점   \n1     6.0  20220516170107    26049.0         23.0              (주)교보문고   \n2     NaN  20200316140100        0.0         24.0          1012 하우스 남산   \n3     6.0  20211124154825        0.0          1.0          10꼬르소꼬모 청담점   \n4     6.0  20210723165419        0.0         19.0         150년 수령 느티나무   \n\n                addr1    addr2            tel zipcode  \n0    서울특별시 중구 마른내로 53      NaN    02-771-3377   04549  \n1      서울특별시 종로구 종로 1   (종로1가)            NaN   03154  \n2  서울특별시 중구 소공로6가길 22  (회현동2가)  010-3488-6838   04630  \n3  서울특별시 강남구 압구정로 416    (청담동)            NaN   06015  \n4   서울 양천구 목4동 760-28      NaN            NaN     NaN  ",
      "text/html": "<div>\n<style scoped>\n    .dataframe tbody tr th:only-of-type {\n        vertical-align: middle;\n    }\n\n    .dataframe tbody tr th {\n        vertical-align: top;\n    }\n\n    .dataframe thead th {\n        text-align: right;\n    }\n</style>\n<table border=\"1\" class=\"dataframe\">\n  <thead>\n    <tr style=\"text-align: right;\">\n      <th></th>\n      <th>areacode</th>\n      <th>cat1</th>\n      <th>cat2</th>\n      <th>cat3</th>\n      <th>contentid</th>\n      <th>contenttypeid</th>\n      <th>createdtime</th>\n      <th>firstimage</th>\n      <th>firstimage2</th>\n      <th>mapx</th>\n      <th>mapy</th>\n      <th>mlevel</th>\n      <th>modifiedtime</th>\n      <th>readcount</th>\n      <th>sigungucode</th>\n      <th>title</th>\n      <th>addr1</th>\n      <th>addr2</th>\n      <th>tel</th>\n      <th>zipcode</th>\n    </tr>\n  </thead>\n  <tbody>\n    <tr>\n      <th>0</th>\n      <td>1.0</td>\n      <td>B02</td>\n      <td>B0201</td>\n      <td>B02010900</td>\n      <td>1932216</td>\n      <td>32</td>\n      <td>20140704173731</td>\n      <td>http://tong.visitkorea.or.kr/cms/resource/79/1...</td>\n      <td>http://tong.visitkorea.or.kr/cms/resource/79/1...</td>\n      <td>126.993836</td>\n      <td>37.564463</td>\n      <td>6.0</td>\n      <td>20211117142005</td>\n      <td>6113.0</td>\n      <td>24.0</td>\n      <td>(K-POP)케이팝레지던스 충무로점</td>\n      <td>서울특별시 중구 마른내로 53</td>\n      <td>NaN</td>\n      <td>02-771-3377</td>\n      <td>04549</td>\n    </tr>\n    <tr>\n      <th>1</th>\n      <td>1.0</td>\n      <td>A02</td>\n      <td>A0206</td>\n      <td>A02061000</td>\n      <td>130285</td>\n      <td>14</td>\n      <td>20071106105026</td>\n      <td>http://tong.visitkorea.or.kr/cms/resource/26/2...</td>\n      <td>http://tong.visitkorea.or.kr/cms/resource/26/2...</td>\n      <td>126.977982</td>\n      <td>37.570976</td>\n      <td>6.0</td>\n      <td>20220516170107</td>\n      <td>26049.0</td>\n      <td>23.0</td>\n      <td>(주)교보문고</td>\n      <td>서울특별시 종로구 종로 1</td>\n      <td>(종로1가)</td>\n      <td>NaN</td>\n      <td>03154</td>\n    </tr>\n    <tr>\n      <th>2</th>\n      <td>1.0</td>\n      <td>B02</td>\n      <td>B0201</td>\n      <td>B02011100</td>\n      <td>2603706</td>\n      <td>32</td>\n      <td>20190529101649</td>\n      <td>NaN</td>\n      <td>NaN</td>\n      <td>126.981957</td>\n      <td>37.560427</td>\n      <td>NaN</td>\n      <td>20200316140100</td>\n      <td>0.0</td>\n      <td>24.0</td>\n      <td>1012 하우스 남산</td>\n      <td>서울특별시 중구 소공로6가길 22</td>\n      <td>(회현동2가)</td>\n      <td>010-3488-6838</td>\n      <td>04630</td>\n    </tr>\n    <tr>\n      <th>3</th>\n      <td>1.0</td>\n      <td>A05</td>\n      <td>A0502</td>\n      <td>A05020200</td>\n      <td>2773281</td>\n      <td>39</td>\n      <td>20211111094611</td>\n      <td>http://tong.visitkorea.or.kr/cms/resource/71/2...</td>\n      <td>http://tong.visitkorea.or.kr/cms/resource/71/2...</td>\n      <td>127.042447</td>\n      <td>37.526966</td>\n      <td>6.0</td>\n      <td>20211124154825</td>\n      <td>0.0</td>\n      <td>1.0</td>\n      <td>10꼬르소꼬모 청담점</td>\n      <td>서울특별시 강남구 압구정로 416</td>\n      <td>(청담동)</td>\n      <td>NaN</td>\n      <td>06015</td>\n    </tr>\n    <tr>\n      <th>4</th>\n      <td>1.0</td>\n      <td>A01</td>\n      <td>A0102</td>\n      <td>A01020100</td>\n      <td>2611482</td>\n      <td>12</td>\n      <td>20190717111103</td>\n      <td>http://tong.visitkorea.or.kr/cms/resource/79/2...</td>\n      <td>http://tong.visitkorea.or.kr/cms/resource/79/2...</td>\n      <td>126.868793</td>\n      <td>37.537686</td>\n      <td>6.0</td>\n      <td>20210723165419</td>\n      <td>0.0</td>\n      <td>19.0</td>\n      <td>150년 수령 느티나무</td>\n      <td>서울 양천구 목4동 760-28</td>\n      <td>NaN</td>\n      <td>NaN</td>\n      <td>NaN</td>\n    </tr>\n  </tbody>\n</table>\n</div>"
     },
     "execution_count": 6,
     "metadata": {},
     "output_type": "execute_result"
    }
   ],
   "source": [
    "df = pd.read_csv(\"../data/\" + fileName)\n",
    "df.head(5)"
   ],
   "metadata": {
    "collapsed": false,
    "pycharm": {
     "name": "#%%\n"
    }
   }
  },
  {
   "cell_type": "code",
   "execution_count": 8,
   "outputs": [],
   "source": [
    "addressIndex = input(\"주소 부분을 입력하세요.\")"
   ],
   "metadata": {
    "collapsed": false,
    "pycharm": {
     "name": "#%%\n"
    }
   }
  },
  {
   "cell_type": "code",
   "execution_count": 10,
   "outputs": [
    {
     "data": {
      "text/plain": "0      서울특별시 중구 마른내로 53\n1        서울특별시 종로구 종로 1\n2    서울특별시 중구 소공로6가길 22\n3    서울특별시 강남구 압구정로 416\n4     서울 양천구 목4동 760-28\nName: addr1, dtype: object"
     },
     "execution_count": 10,
     "metadata": {},
     "output_type": "execute_result"
    }
   ],
   "source": [
    "originAddress = df[addressIndex]\n",
    "originAddress.head(5)"
   ],
   "metadata": {
    "collapsed": false,
    "pycharm": {
     "name": "#%%\n"
    }
   }
  },
  {
   "cell_type": "code",
   "execution_count": 12,
   "outputs": [],
   "source": [
    "keyFile = open(\"../key/juso.txt\")\n",
    "key = keyFile.readline()\n",
    "keyFile.close()"
   ],
   "metadata": {
    "collapsed": false,
    "pycharm": {
     "name": "#%%\n"
    }
   }
  },
  {
   "cell_type": "code",
   "execution_count": 13,
   "outputs": [],
   "source": [
    "import requests\n",
    "import json"
   ],
   "metadata": {
    "collapsed": false,
    "pycharm": {
     "name": "#%%\n"
    }
   }
  },
  {
   "cell_type": "code",
   "execution_count": 22,
   "outputs": [],
   "source": [
    "request = requests.get(\"https://www.juso.go.kr/addrlink/addrLinkApi.do?currentPage=1&countPerPage=10\"\n",
    "                       \"&resultType=json&keyword=세종로&confmKey=\" + key)\n"
   ],
   "metadata": {
    "collapsed": false,
    "pycharm": {
     "name": "#%%\n"
    }
   }
  },
  {
   "cell_type": "code",
   "execution_count": 26,
   "outputs": [
    {
     "data": {
      "text/plain": "{'results': {'common': {'errorMessage': '정상',\n   'countPerPage': '10',\n   'totalCount': '1667',\n   'errorCode': '0',\n   'currentPage': '1'},\n  'juso': [{'detBdNmList': '',\n    'engAddr': '4683 Sejong-ro, Sojeong-myeon, Sejong-si',\n    'rn': '세종로',\n    'emdNm': '소정면',\n    'zipNo': '30001',\n    'roadAddrPart2': '',\n    'emdNo': '07',\n    'sggNm': '',\n    'jibunAddr': '세종특별자치시 소정면 대곡리 342-2',\n    'siNm': '세종특별자치시',\n    'roadAddrPart1': '세종특별자치시 소정면 세종로 4683',\n    'bdNm': '',\n    'admCd': '3611039023',\n    'udrtYn': '0',\n    'lnbrMnnm': '342',\n    'roadAddr': '세종특별자치시 소정면 세종로 4683',\n    'lnbrSlno': '2',\n    'buldMnnm': '4683',\n    'bdKdcd': '0',\n    'liNm': '대곡리',\n    'rnMgtSn': '361103000189',\n    'mtYn': '0',\n    'bdMgtSn': '3611039023103420002000001',\n    'buldSlno': '0'},\n   {'detBdNmList': '',\n    'engAddr': '905-22 Sejong-ro, Sejong-si',\n    'rn': '세종로',\n    'emdNm': '새롬동',\n    'zipNo': '30125',\n    'roadAddrPart2': '(새롬동)',\n    'emdNo': '09',\n    'sggNm': '',\n    'jibunAddr': '세종특별자치시 새롬동 550',\n    'siNm': '세종특별자치시',\n    'roadAddrPart1': '세종특별자치시 세종로 905-22',\n    'bdNm': '',\n    'admCd': '3611010800',\n    'udrtYn': '0',\n    'lnbrMnnm': '550',\n    'roadAddr': '세종특별자치시 세종로 905-22(새롬동)',\n    'lnbrSlno': '0',\n    'buldMnnm': '905',\n    'bdKdcd': '0',\n    'liNm': '',\n    'rnMgtSn': '361103000189',\n    'mtYn': '0',\n    'bdMgtSn': '3611010800200630000000001',\n    'buldSlno': '22'},\n   {'detBdNmList': '',\n    'engAddr': '911 Sejong-ro, Sejong-si',\n    'rn': '세종로',\n    'emdNm': '새롬동',\n    'zipNo': '30125',\n    'roadAddrPart2': '(새롬동)',\n    'emdNo': '09',\n    'sggNm': '',\n    'jibunAddr': '세종특별자치시 새롬동 549 지하차도 관리사무소',\n    'siNm': '세종특별자치시',\n    'roadAddrPart1': '세종특별자치시 세종로 911',\n    'bdNm': '지하차도 관리사무소',\n    'admCd': '3611010800',\n    'udrtYn': '0',\n    'lnbrMnnm': '549',\n    'roadAddr': '세종특별자치시 세종로 911(새롬동)',\n    'lnbrSlno': '0',\n    'buldMnnm': '911',\n    'bdKdcd': '0',\n    'liNm': '',\n    'rnMgtSn': '361103000189',\n    'mtYn': '0',\n    'bdMgtSn': '3611010800103700000000001',\n    'buldSlno': '0'},\n   {'detBdNmList': '2동',\n    'engAddr': '933 Sejong-ro, Sejong-si',\n    'rn': '세종로',\n    'emdNm': '새롬동',\n    'zipNo': '30125',\n    'roadAddrPart2': '(새롬동)',\n    'emdNo': '09',\n    'sggNm': '',\n    'jibunAddr': '세종특별자치시 새롬동 552 가득유치원',\n    'siNm': '세종특별자치시',\n    'roadAddrPart1': '세종특별자치시 세종로 933',\n    'bdNm': '가득유치원',\n    'admCd': '3611010800',\n    'udrtYn': '0',\n    'lnbrMnnm': '552',\n    'roadAddr': '세종특별자치시 세종로 933(새롬동)',\n    'lnbrSlno': '0',\n    'buldMnnm': '933',\n    'bdKdcd': '0',\n    'liNm': '',\n    'rnMgtSn': '361103000189',\n    'mtYn': '0',\n    'bdMgtSn': '3611010800103890004000001',\n    'buldSlno': '0'},\n   {'detBdNmList': '1동',\n    'engAddr': '941 Sejong-ro, Sejong-si',\n    'rn': '세종로',\n    'emdNm': '새롬동',\n    'zipNo': '30125',\n    'roadAddrPart2': '(새롬동)',\n    'emdNo': '09',\n    'sggNm': '',\n    'jibunAddr': '세종특별자치시 새롬동 552 가득초등학교',\n    'siNm': '세종특별자치시',\n    'roadAddrPart1': '세종특별자치시 세종로 941',\n    'bdNm': '가득초등학교',\n    'admCd': '3611010800',\n    'udrtYn': '0',\n    'lnbrMnnm': '552',\n    'roadAddr': '세종특별자치시 세종로 941(새롬동)',\n    'lnbrSlno': '0',\n    'buldMnnm': '941',\n    'bdKdcd': '0',\n    'liNm': '',\n    'rnMgtSn': '361103000189',\n    'mtYn': '0',\n    'bdMgtSn': '3611010800103870006000001',\n    'buldSlno': '0'},\n   {'detBdNmList': '',\n    'engAddr': '1186 Sejong-ro, Sejong-si',\n    'rn': '세종로',\n    'emdNm': '종촌동',\n    'zipNo': '30064',\n    'roadAddrPart2': '(종촌동)',\n    'emdNo': '08',\n    'sggNm': '',\n    'jibunAddr': '세종특별자치시 종촌동 638',\n    'siNm': '세종특별자치시',\n    'roadAddrPart1': '세종특별자치시 세종로 1186',\n    'bdNm': '',\n    'admCd': '3611011100',\n    'udrtYn': '0',\n    'lnbrMnnm': '638',\n    'roadAddr': '세종특별자치시 세종로 1186(종촌동)',\n    'lnbrSlno': '0',\n    'buldMnnm': '1186',\n    'bdKdcd': '0',\n    'liNm': '',\n    'rnMgtSn': '361103000189',\n    'mtYn': '0',\n    'bdMgtSn': '3611011100101690026000001',\n    'buldSlno': '0'},\n   {'detBdNmList': '',\n    'engAddr': '1207 Sejong-ro, Sejong-si',\n    'rn': '세종로',\n    'emdNm': '고운동',\n    'zipNo': '30101',\n    'roadAddrPart2': '(고운동)',\n    'emdNo': '11',\n    'sggNm': '',\n    'jibunAddr': '세종특별자치시 고운동 2103 세종시립도서관',\n    'siNm': '세종특별자치시',\n    'roadAddrPart1': '세종특별자치시 세종로 1207',\n    'bdNm': '세종시립도서관',\n    'admCd': '3611011200',\n    'udrtYn': '0',\n    'lnbrMnnm': '2103',\n    'roadAddr': '세종특별자치시 세종로 1207(고운동)',\n    'lnbrSlno': '0',\n    'buldMnnm': '1207',\n    'bdKdcd': '0',\n    'liNm': '',\n    'rnMgtSn': '361103000189',\n    'mtYn': '0',\n    'bdMgtSn': '3611011200121030000000001',\n    'buldSlno': '0'},\n   {'detBdNmList': '',\n    'engAddr': '1215 Sejong-ro, Sejong-si',\n    'rn': '세종로',\n    'emdNm': '고운동',\n    'zipNo': '30101',\n    'roadAddrPart2': '(고운동)',\n    'emdNo': '11',\n    'sggNm': '',\n    'jibunAddr': '세종특별자치시 고운동 2095 아성프라자',\n    'siNm': '세종특별자치시',\n    'roadAddrPart1': '세종특별자치시 세종로 1215',\n    'bdNm': '아성프라자',\n    'admCd': '3611011200',\n    'udrtYn': '0',\n    'lnbrMnnm': '2095',\n    'roadAddr': '세종특별자치시 세종로 1215(고운동)',\n    'lnbrSlno': '0',\n    'buldMnnm': '1215',\n    'bdKdcd': '0',\n    'liNm': '',\n    'rnMgtSn': '361103000189',\n    'mtYn': '0',\n    'bdMgtSn': '3611011200201670000000006',\n    'buldSlno': '0'},\n   {'detBdNmList': '',\n    'engAddr': '1219 Sejong-ro, Sejong-si',\n    'rn': '세종로',\n    'emdNm': '고운동',\n    'zipNo': '30101',\n    'roadAddrPart2': '(고운동)',\n    'emdNo': '11',\n    'sggNm': '',\n    'jibunAddr': '세종특별자치시 고운동 2094 세종중앙타워',\n    'siNm': '세종특별자치시',\n    'roadAddrPart1': '세종특별자치시 세종로 1219',\n    'bdNm': '세종중앙타워',\n    'admCd': '3611011200',\n    'udrtYn': '0',\n    'lnbrMnnm': '2094',\n    'roadAddr': '세종특별자치시 세종로 1219(고운동)',\n    'lnbrSlno': '0',\n    'buldMnnm': '1219',\n    'bdKdcd': '0',\n    'liNm': '',\n    'rnMgtSn': '361103000189',\n    'mtYn': '0',\n    'bdMgtSn': '3611011200201670000000003',\n    'buldSlno': '0'},\n   {'detBdNmList': '',\n    'engAddr': '1229 Sejong-ro, Sejong-si',\n    'rn': '세종로',\n    'emdNm': '고운동',\n    'zipNo': '30101',\n    'roadAddrPart2': '(고운동)',\n    'emdNo': '11',\n    'sggNm': '',\n    'jibunAddr': '세종특별자치시 고운동 2092 스타플레이스',\n    'siNm': '세종특별자치시',\n    'roadAddrPart1': '세종특별자치시 세종로 1229',\n    'bdNm': '스타플레이스',\n    'admCd': '3611011200',\n    'udrtYn': '0',\n    'lnbrMnnm': '2092',\n    'roadAddr': '세종특별자치시 세종로 1229(고운동)',\n    'lnbrSlno': '0',\n    'buldMnnm': '1229',\n    'bdKdcd': '0',\n    'liNm': '',\n    'rnMgtSn': '361103000189',\n    'mtYn': '0',\n    'bdMgtSn': '3611011200201670000000005',\n    'buldSlno': '0'}]}}"
     },
     "execution_count": 26,
     "metadata": {},
     "output_type": "execute_result"
    }
   ],
   "source": [
    "data1 = json.loads(request.text)\n",
    "data1"
   ],
   "metadata": {
    "collapsed": false,
    "pycharm": {
     "name": "#%%\n"
    }
   }
  },
  {
   "cell_type": "code",
   "execution_count": 31,
   "outputs": [
    {
     "data": {
      "text/plain": "'세종특별자치시 소정면 세종로 4683'"
     },
     "execution_count": 31,
     "metadata": {},
     "output_type": "execute_result"
    }
   ],
   "source": [
    "data1[\"results\"][\"juso\"][0][\"roadAddr\"]"
   ],
   "metadata": {
    "collapsed": false,
    "pycharm": {
     "name": "#%%\n"
    }
   }
  },
  {
   "cell_type": "code",
   "execution_count": 48,
   "outputs": [
    {
     "name": "stdout",
     "output_type": "stream",
     "text": [
      "서울특별시 중구 마른내로 53\n"
     ]
    },
    {
     "ename": "KeyError",
     "evalue": "0",
     "output_type": "error",
     "traceback": [
      "\u001B[1;31m---------------------------------------------------------------------------\u001B[0m",
      "\u001B[1;31mKeyError\u001B[0m                                  Traceback (most recent call last)",
      "File \u001B[1;32m~\\anaconda3\\envs\\Address\\lib\\site-packages\\pandas\\core\\indexes\\base.py:3621\u001B[0m, in \u001B[0;36mIndex.get_loc\u001B[1;34m(self, key, method, tolerance)\u001B[0m\n\u001B[0;32m   3620\u001B[0m \u001B[38;5;28;01mtry\u001B[39;00m:\n\u001B[1;32m-> 3621\u001B[0m     \u001B[38;5;28;01mreturn\u001B[39;00m \u001B[38;5;28;43mself\u001B[39;49m\u001B[38;5;241;43m.\u001B[39;49m\u001B[43m_engine\u001B[49m\u001B[38;5;241;43m.\u001B[39;49m\u001B[43mget_loc\u001B[49m\u001B[43m(\u001B[49m\u001B[43mcasted_key\u001B[49m\u001B[43m)\u001B[49m\n\u001B[0;32m   3622\u001B[0m \u001B[38;5;28;01mexcept\u001B[39;00m \u001B[38;5;167;01mKeyError\u001B[39;00m \u001B[38;5;28;01mas\u001B[39;00m err:\n",
      "File \u001B[1;32m~\\anaconda3\\envs\\Address\\lib\\site-packages\\pandas\\_libs\\index.pyx:136\u001B[0m, in \u001B[0;36mpandas._libs.index.IndexEngine.get_loc\u001B[1;34m()\u001B[0m\n",
      "File \u001B[1;32m~\\anaconda3\\envs\\Address\\lib\\site-packages\\pandas\\_libs\\index.pyx:163\u001B[0m, in \u001B[0;36mpandas._libs.index.IndexEngine.get_loc\u001B[1;34m()\u001B[0m\n",
      "File \u001B[1;32mpandas\\_libs\\hashtable_class_helper.pxi:5198\u001B[0m, in \u001B[0;36mpandas._libs.hashtable.PyObjectHashTable.get_item\u001B[1;34m()\u001B[0m\n",
      "File \u001B[1;32mpandas\\_libs\\hashtable_class_helper.pxi:5206\u001B[0m, in \u001B[0;36mpandas._libs.hashtable.PyObjectHashTable.get_item\u001B[1;34m()\u001B[0m\n",
      "\u001B[1;31mKeyError\u001B[0m: 0",
      "\nThe above exception was the direct cause of the following exception:\n",
      "\u001B[1;31mKeyError\u001B[0m                                  Traceback (most recent call last)",
      "Input \u001B[1;32mIn [48]\u001B[0m, in \u001B[0;36m<cell line: 1>\u001B[1;34m()\u001B[0m\n\u001B[0;32m      1\u001B[0m \u001B[38;5;28;01mfor\u001B[39;00m (index, data) \u001B[38;5;129;01min\u001B[39;00m df\u001B[38;5;241m.\u001B[39miterrows():\n\u001B[0;32m      2\u001B[0m     \u001B[38;5;28mprint\u001B[39m(data[\u001B[38;5;124m\"\u001B[39m\u001B[38;5;124maddr1\u001B[39m\u001B[38;5;124m\"\u001B[39m])\n\u001B[1;32m----> 3\u001B[0m     \u001B[38;5;28mprint\u001B[39m(\u001B[43mdf\u001B[49m\u001B[43m[\u001B[49m\u001B[43mindex\u001B[49m\u001B[43m]\u001B[49m)\n",
      "File \u001B[1;32m~\\anaconda3\\envs\\Address\\lib\\site-packages\\pandas\\core\\frame.py:3505\u001B[0m, in \u001B[0;36mDataFrame.__getitem__\u001B[1;34m(self, key)\u001B[0m\n\u001B[0;32m   3503\u001B[0m \u001B[38;5;28;01mif\u001B[39;00m \u001B[38;5;28mself\u001B[39m\u001B[38;5;241m.\u001B[39mcolumns\u001B[38;5;241m.\u001B[39mnlevels \u001B[38;5;241m>\u001B[39m \u001B[38;5;241m1\u001B[39m:\n\u001B[0;32m   3504\u001B[0m     \u001B[38;5;28;01mreturn\u001B[39;00m \u001B[38;5;28mself\u001B[39m\u001B[38;5;241m.\u001B[39m_getitem_multilevel(key)\n\u001B[1;32m-> 3505\u001B[0m indexer \u001B[38;5;241m=\u001B[39m \u001B[38;5;28;43mself\u001B[39;49m\u001B[38;5;241;43m.\u001B[39;49m\u001B[43mcolumns\u001B[49m\u001B[38;5;241;43m.\u001B[39;49m\u001B[43mget_loc\u001B[49m\u001B[43m(\u001B[49m\u001B[43mkey\u001B[49m\u001B[43m)\u001B[49m\n\u001B[0;32m   3506\u001B[0m \u001B[38;5;28;01mif\u001B[39;00m is_integer(indexer):\n\u001B[0;32m   3507\u001B[0m     indexer \u001B[38;5;241m=\u001B[39m [indexer]\n",
      "File \u001B[1;32m~\\anaconda3\\envs\\Address\\lib\\site-packages\\pandas\\core\\indexes\\base.py:3623\u001B[0m, in \u001B[0;36mIndex.get_loc\u001B[1;34m(self, key, method, tolerance)\u001B[0m\n\u001B[0;32m   3621\u001B[0m     \u001B[38;5;28;01mreturn\u001B[39;00m \u001B[38;5;28mself\u001B[39m\u001B[38;5;241m.\u001B[39m_engine\u001B[38;5;241m.\u001B[39mget_loc(casted_key)\n\u001B[0;32m   3622\u001B[0m \u001B[38;5;28;01mexcept\u001B[39;00m \u001B[38;5;167;01mKeyError\u001B[39;00m \u001B[38;5;28;01mas\u001B[39;00m err:\n\u001B[1;32m-> 3623\u001B[0m     \u001B[38;5;28;01mraise\u001B[39;00m \u001B[38;5;167;01mKeyError\u001B[39;00m(key) \u001B[38;5;28;01mfrom\u001B[39;00m \u001B[38;5;21;01merr\u001B[39;00m\n\u001B[0;32m   3624\u001B[0m \u001B[38;5;28;01mexcept\u001B[39;00m \u001B[38;5;167;01mTypeError\u001B[39;00m:\n\u001B[0;32m   3625\u001B[0m     \u001B[38;5;66;03m# If we have a listlike key, _check_indexing_error will raise\u001B[39;00m\n\u001B[0;32m   3626\u001B[0m     \u001B[38;5;66;03m#  InvalidIndexError. Otherwise we fall through and re-raise\u001B[39;00m\n\u001B[0;32m   3627\u001B[0m     \u001B[38;5;66;03m#  the TypeError.\u001B[39;00m\n\u001B[0;32m   3628\u001B[0m     \u001B[38;5;28mself\u001B[39m\u001B[38;5;241m.\u001B[39m_check_indexing_error(key)\n",
      "\u001B[1;31mKeyError\u001B[0m: 0"
     ]
    }
   ],
   "source": [
    "for (index, data) in df.iterrows():\n",
    "    print(data[addressIndex])"
   ],
   "metadata": {
    "collapsed": false,
    "pycharm": {
     "name": "#%%\n"
    }
   }
  },
  {
   "cell_type": "code",
   "execution_count": 42,
   "outputs": [
    {
     "data": {
      "text/plain": "areacode                                                       NaN\ncat1                                                           A01\ncat2                                                         A0101\ncat3                                                     A01011300\ncontentid                                                  2804685\ncontenttypeid                                                   25\ncreatedtime                                         20220117180046\nfirstimage       http://tong.visitkorea.or.kr/cms/resource/46/2...\nfirstimage2      http://tong.visitkorea.or.kr/cms/resource/46/2...\nmapx                                                           NaN\nmapy                                                           NaN\nmlevel                                                         NaN\nmodifiedtime                                        20220610142028\nreadcount                                                      0.0\nsigungucode                                                    NaN\ntitle                                               해파랑길(부산,울산 구간)\naddr1                                                          NaN\naddr2                                                          NaN\ntel                                                            NaN\nzipcode                                                        NaN\nName: 33676, dtype: object"
     },
     "execution_count": 42,
     "metadata": {},
     "output_type": "execute_result"
    }
   ],
   "source": [
    "data[1][addressIndex]"
   ],
   "metadata": {
    "collapsed": false,
    "pycharm": {
     "name": "#%%\n"
    }
   }
  },
  {
   "cell_type": "code",
   "execution_count": 47,
   "outputs": [
    {
     "data": {
      "text/plain": "{'results': {'common': {'errorMessage': '정상',\n   'countPerPage': '10',\n   'totalCount': '1',\n   'errorCode': '0',\n   'currentPage': '1'},\n  'juso': [{'detBdNmList': '',\n    'engAddr': '841 Dangyeong-ro, Gangdong-myeon, Gangneung-si, Gangwon-do',\n    'rn': '단경로',\n    'emdNm': '강동면',\n    'zipNo': '25628',\n    'roadAddrPart2': '',\n    'emdNo': '01',\n    'sggNm': '강릉시',\n    'jibunAddr': '강원도 강릉시 강동면 언별리 1425',\n    'siNm': '강원도',\n    'roadAddrPart1': '강원도 강릉시 강동면 단경로 841',\n    'bdNm': '',\n    'admCd': '4215034031',\n    'udrtYn': '0',\n    'lnbrMnnm': '1425',\n    'roadAddr': '강원도 강릉시 강동면 단경로 841',\n    'lnbrSlno': '0',\n    'buldMnnm': '841',\n    'bdKdcd': '0',\n    'liNm': '언별리',\n    'rnMgtSn': '421503220011',\n    'mtYn': '0',\n    'bdMgtSn': '4215034031014250000046239',\n    'buldSlno': '0'}]}}"
     },
     "execution_count": 47,
     "metadata": {},
     "output_type": "execute_result"
    }
   ],
   "source": [
    "request = requests.get(\"https://www.juso.go.kr/addrlink/addrLinkApi.do?currentPage=1&countPerPage=10\"\n",
    "                       \"&resultType=json&keyword=단경로 841&confmKey=\" + key)\n",
    "data1 = json.loads(request.text)\n",
    "data1"
   ],
   "metadata": {
    "collapsed": false,
    "pycharm": {
     "name": "#%%\n"
    }
   }
  },
  {
   "cell_type": "code",
   "execution_count": null,
   "outputs": [
    {
     "name": "stdout",
     "output_type": "stream",
     "text": [
      "서울특별시 중구 마른내로 53(인현동1가)\n",
      "서울특별시 종로구 종로 1(종로1가)\n",
      "서울특별시 중구 소공로6가길 22(회현동2가)\n",
      "서울특별시 강남구 압구정로 416(청담동)\n",
      "서울특별시 양천구 목동중앙본로1길 37(목동)\n",
      "서울특별시 종로구 창경궁로 269-1(혜화동)\n",
      "서울특별시 중구 소파로 23(남창동)\n",
      "서울특별시 은평구 연서로 534(진관동)\n",
      "서울특별시 마포구 와우산로37길 35(동교동)\n",
      "서울특별시 금천구 시흥대로73길 70(시흥동)\n",
      "서울특별시 동대문구 무학로44길 38(제기동)\n",
      "서울특별시 서초구 올림픽대로 2085-14(반포동)\n",
      "서울특별시 강남구 남부순환로 3104(대치동)\n",
      "서울특별시 종로구 계동길 37(계동)\n",
      "서울특별시 중구 을지로 281(을지로7가)\n",
      "서울특별시 중구 을지로 281(을지로7가)\n",
      "서울특별시 강남구 영동대로 513(삼성동)\n",
      "서울특별시 용산구 소월로 322(한남동)\n",
      "서울특별시 중구 세종대로 110(태평로1가)\n",
      "서울특별시 종로구 대학로 120(동숭동)\n",
      "서울특별시 마포구 어울마당로 133(동교동)\n",
      "서울특별시 강서구 공항대로 475(등촌동)\n",
      "서울특별시 강남구 영동대로 513(삼성동)\n",
      "서울특별시 중구 을지로 281(을지로7가)\n",
      "서울특별시 종로구 대학로 104(동숭동)\n",
      "서울특별시 서초구 남부순환로 2406(서초동)\n",
      "서울특별시 중구 정동길 18(정동)\n",
      "서울특별시 중구 을지로 281(을지로7가)\n",
      "서울특별시 금천구 서부샛길 64(독산동)\n",
      "서울특별시 서초구 남부순환로 2364(서초동)\n",
      "서울특별시 중구 청계천로 40(다동)\n",
      "서울특별시 동작구 동작대로9길 35(사당동)\n",
      "서울특별시 종로구 종로 157(훈정동)\n",
      "서울특별시 강남구 봉은사로 524(삼성동)\n",
      "서울특별시 종로구 동숭길 114(동숭동)\n",
      "서울특별시 송파구 올림픽로 424(방이동)\n",
      "서울특별시 마포구 연남로1길 55(연남동)\n",
      "서울특별시 용산구 양녕로 445(이촌동)\n",
      "서울특별시 영등포구 여의공원로 68(여의도동)\n",
      "서울특별시 중랑구 숙선옹주로3길 20-37(묵동)\n",
      "서울특별시 강남구 영동대로 513(삼성동)\n",
      "서울특별시 강남구 영동대로 513(삼성동)\n",
      "서울특별시 강남구 선릉로111길 5(논현동)\n",
      "서울특별시 서초구 올림픽대로 2085-14(반포동)\n",
      "서울특별시 중구 장충단로 59(장충동2가)\n",
      "서울특별시 중구 삼일대로 343(저동1가)\n",
      "서울특별시 성북구 화랑로32길 146-37(석관동)\n",
      "서울특별시 종로구 대학로 104(동숭동)\n",
      "서울특별시 마포구 증산로 87(성산동)\n",
      "서울특별시 송파구 올림픽로 424(방이동)\n",
      "서울특별시 종로구 종로 157(훈정동)\n",
      "서울특별시 종로구 창경궁로 185(와룡동)\n",
      "서울특별시 중구 삼일대로 343(저동1가)\n",
      "서울특별시 영등포구 여의동로 280(여의도동)\n",
      "서울특별시 송파구 한가람로 65(잠실동)\n",
      "서울특별시 종로구 사직로 161(세종로)\n",
      "서울특별시 서초구 반포대로 201(반포동)\n",
      "서울특별시 중구 세종대로 99(정동)\n",
      "서울특별시 종로구 계동4길 3(계동)\n",
      "서울특별시 종로구 율곡로 53(안국동)\n",
      "서울특별시 종로구 청와대로 1(세종로)\n",
      "서울특별시 강남구 남부순환로 3104(대치동)\n",
      "서울특별시 강남구 남부순환로 3104(대치동)\n",
      "서울특별시 용산구 후암로57길 41(동자동)\n",
      "서울특별시 송파구 백제고분로22길 5(삼전동)\n",
      "서울특별시 중구 을지로 280-2(을지로7가)\n",
      "서울특별시 강남구 남부순환로 3104(대치동)\n",
      "서울특별시 중구 청계천로 184(주교동)\n",
      "서울특별시 영등포구 당산로36길 5(당산동4가)\n",
      "서울특별시 서대문구 통일로 251(현저동)\n",
      "서울특별시 중구 장충단로 91(장충동2가)\n",
      "서울특별시 중구 삼일대로 343(저동1가)\n",
      "서울특별시 서초구 매헌로 16(양재동)\n",
      "서울특별시 강북구 도봉로89길 13(수유동)\n",
      "서울특별시 마포구 연남로3길 33(연남동)\n",
      "서울특별시 중구 명동2길 57(충무로1가)\n",
      "서울특별시 중구 삼일대로 343(저동1가)\n",
      "서울특별시 영등포구 63로 50(여의도동)\n",
      "서울특별시 영등포구 63로 36(여의도동, 리버타워)\n",
      "서울특별시 영등포구 63로 50(여의도동)\n",
      "서울특별시 중구 퇴계로 343-1(광희동2가)\n",
      "서울특별시 강남구 도산대로 237(신사동)\n",
      "서울특별시 마포구 양화로19길 22-13(동교동)\n",
      "서울특별시 중구 소공로6가길 2(회현동2가)\n",
      "서울특별시 강남구 영동대로 513(삼성동)\n",
      "서울특별시 강남구 선릉로96길 5-16(삼성동)\n",
      "서울특별시 종로구 우정국로2길 10(관철동)\n",
      "서울특별시 동작구 노량진로 100(노량진동)\n",
      "서울특별시 관악구 성현로 80(봉천동, 관악드림타운아파트)\n",
      "서울특별시 마포구 월드컵북로 366(상암동)\n",
      "서울특별시 마포구 월드컵북로 366(상암동)\n",
      "서울특별시 종로구 인사동길 49(관훈동)\n",
      "서울특별시 마포구 와우산로29길 59(서교동)\n",
      "서울특별시 용산구 이태원로27길 101(한남동)\n",
      "서울특별시 송파구 올림픽로 99(잠실동, 잠실엘스)\n",
      "서울특별시 구로구 디지털로26길 111(구로동)\n",
      "서울특별시 금천구 디지털로10길 9(가산동)\n",
      "서울특별시 중구 명동길 14(명동2가)\n",
      "서울특별시 중구 소공로3길 35(회현동1가)\n",
      "서울특별시 광진구 뚝섬로34길 25-19(자양동, 자양10차현대홈타운)\n",
      "서울특별시 은평구 진관길 11-30(진관동)\n",
      "서울특별시 서대문구 이화여대7길 35(대현동)\n",
      "서울특별시 영등포구 국제금융로 10(여의도동)\n",
      "서울특별시 용산구 원효로1길 16(청암동)\n",
      "서울특별시 종로구 창경궁로35길 29(혜화동)\n",
      "서울특별시 서초구 잠원로4길 33-2(잠원동)\n",
      "서울특별시 마포구 상암산로 48-6(상암동)\n",
      "서울특별시 종로구 청계천로 279(종로6가)\n",
      "서울특별시 서초구 신반포로 176(반포동)\n",
      "서울특별시 용산구 효창원로8길 16(원효로4가, 한성 한강수 아파트)\n",
      "서울특별시 마포구 양화로23길 30-1(동교동)\n",
      "서울특별시 강남구 강남대로112길 11(논현동)\n",
      "서울특별시 영등포구 국제금융로6길 33(여의도동)\n",
      "서울특별시 강남구 영동대로 513(삼성동)\n",
      "서울특별시 송파구 중대로10길 42(가락동)\n",
      "서울특별시 강서구 공항대로 376(화곡동)\n",
      "서울특별시 영등포구 여의공원로 13(여의도동)\n",
      "서울특별시 종로구 인사동11길 8(관훈동)\n",
      "서울특별시 금천구 서부샛길 606(가산동)\n",
      "서울특별시 마포구 어울마당로 65(서교동)\n",
      "서울특별시 마포구 어울마당로 65(서교동)\n",
      "서울특별시 종로구 세종대로 178(세종로)\n",
      "서울특별시 용산구 한강대로 255(갈월동)\n",
      "서울특별시 강남구 선릉로 807(신사동)\n",
      "서울특별시 강남구 논현로 508(역삼동)\n",
      "서울특별시 중구 청파로 464(중림동)\n",
      "서울특별시 마포구 와우산로35길 53(서교동)\n",
      "서울특별시 용산구 청파로95길 5(서계동)\n",
      "서울특별시 종로구 대학로8길 7(동숭동)\n",
      "서울특별시 마포구 대흥로 116-2(대흥동)\n",
      "서울특별시 마포구 성미산로29길 10(연남동)\n",
      "서울특별시 강남구 봉은사로 120(역삼동)\n",
      "서울특별시 용산구 두텁바위로69길 15-8(후암동)\n",
      "서울특별시 강남구 영동대로 513(삼성동)\n",
      "서울특별시 송파구 올림픽로10길 8(잠실동)\n",
      "서울특별시 용산구 남산공원길 105(용산동2가)\n",
      "서울특별시 용산구 남산공원길 105(용산동2가)\n",
      "서울특별시 종로구 삼청로7길 40(삼청동)\n",
      "서울특별시 서대문구 명물길 23(창천동)\n",
      "서울특별시 성동구 연무장15길 11(성수동2가)\n",
      "서울특별시 강남구 언주로148길 5(논현동)\n",
      "서울특별시 중구 을지로 65(을지로2가)\n",
      "서울특별시 강남구 영동대로 416(대치동)\n",
      "서울특별시 영등포구 영중로 145(영등포동8가, 영등포삼환아파트)\n",
      "서울특별시 성동구 연무장7가길 8(성수동2가)\n",
      "서울특별시 중구 남대문로 34(회현동1가)\n",
      "서울특별시 서초구 바우뫼로12길 70(양재동)\n",
      "서울특별시 송파구 삼학사로19길 17(삼전동)\n",
      "서울특별시 마포구 동교로 242(연남동)\n",
      "서울특별시 강남구 언주로133길 11(논현동)\n",
      "서울특별시 중구 동호로 290-9(장충동2가, 에스.비.하우스)\n",
      "서울특별시 마포구 월드컵북로2길 87(동교동, 토우)\n",
      "서울특별시 용산구 한강대로23길 55(한강로3가)\n",
      "서울특별시 종로구 율곡로8길 57-4(와룡동)\n",
      "서울특별시 금천구 디지털로 188(가산동)\n",
      "서울특별시 마포구 월드컵북로6길 89-9(연남동)\n",
      "서울특별시 서초구 사평대로 205(반포동)\n",
      "서울특별시 마포구 상암산로 76(상암동)\n",
      "서울특별시 중구 명동7가길 20-8(을지로2가)\n",
      "서울특별시 금천구 시흥대로52길 51(시흥동)\n",
      "서울특별시 은평구 대서문길 43-10(진관동)\n",
      "서울특별시 중구 을지로 지하12(을지로1가)\n",
      "서울특별시 중구 수표로2길 25(충무로3가)\n",
      "서울특별시 영등포구 시흥대로185길 11(대림동)\n",
      "서울특별시 은평구 연서로 171(갈현동)\n",
      "서울특별시 성북구 성북로 134-4(성북동)\n",
      "서울특별시 종로구 인사동14길 5(관훈동)\n",
      "서울특별시 동대문구 답십리로48나길 2(답십리동)\n",
      "서울특별시 종로구 사직로12길 8(내자동)\n",
      "서울특별시 중구 충무로9길 12(을지로3가)\n",
      "서울특별시 노원구 화랑로43가길 27(월계동)\n",
      "서울특별시 송파구 가락로16길 3-12(석촌동)\n",
      "서울특별시 용산구 새창로 124-10(용문동)\n",
      "서울특별시 강동구 강동대로 187(성내동, 파크비유캐슬)\n",
      "서울특별시 종로구 인사동5길 25(인사동)\n",
      "서울특별시 종로구 북악산로 267(평창동)\n",
      "서울특별시 성북구 선잠로2길 242(성북동)\n",
      "서울특별시 성북구 선잠로2길 242(성북동)\n",
      "서울특별시 성북구 북악산로 766(정릉동)\n",
      "서울특별시 성북구 동소문로24길 14-8(동선동1가)\n",
      "서울특별시 강북구 삼양로173길 12(우이동)\n",
      "서울특별시 은평구 연서로 534(진관동)\n",
      "서울특별시 강북구 삼양로 689(우이동)\n",
      "서울특별시 강북구 노해로27길 32(수유동, 르레브힐스B동)\n",
      "서울특별시 성북구 솔샘로25길 121-50(정릉동)\n",
      "서울특별시 성북구 보국문로 106-1(정릉동)\n",
      "서울특별시 종로구 평창15길 5(평창동)\n",
      "서울특별시 종로구 비봉2길 304(구기동)\n",
      "서울특별시 은평구 통일로94길 12(불광동, 효민아크로뷰A)\n",
      "서울특별시 은평구 연서로 534(진관동)\n",
      "서울특별시 도봉구 도봉로 964-40(도봉동)\n",
      "서울특별시 노원구 화랑로 지하510(공릉동)\n",
      "서울특별시 광진구 천호대로 813-2(광장동)\n",
      "서울특별시 강남구 광평로 지하270(수서동)\n",
      "서울특별시 관악구 과천대로 941(남현동)\n",
      "서울특별시 강서구 양천로 497(가양동, 강나루2차현대아파트)\n",
      "서울특별시 동작구 상도로53길 70(상도동, 상도에스에이치빌)\n",
      "서울특별시 서초구 강남대로 27(양재동)\n",
      "서울특별시 마포구 연희로1길 55-6(연남동)\n",
      "서울특별시 용산구 청파로63길 18(청파동1가)\n",
      "서울특별시 마포구 매봉산로 31(상암동)\n",
      "서울특별시 용산구 후암로34길 31(후암동, 정우빌라)\n"
     ]
    }
   ],
   "source": [
    "count = 0\n",
    "error = []\n",
    "for (index, data) in df.iterrows():\n",
    "    request = requests.get(f\"https://www.juso.go.kr/addrlink/addrLinkApi.do?currentPage=1&countPerPage=10\"\n",
    "                           f\"&resultType=json&keyword={data[addressIndex]}&confmKey={key}\")\n",
    "    addressData = json.loads(request.text)\n",
    "    if addressData[\"results\"][\"common\"][\"errorCode\"] == \"0\" and len(addressData[\"results\"][\"juso\"]) > 0:\n",
    "        address = addressData[\"results\"][\"juso\"][0][\"roadAddr\"]\n",
    "        df.loc[index, addressIndex] = address\n",
    "        print(address)\n",
    "        count += 1\n",
    "    else:\n",
    "        error.append(index)\n",
    "\n",
    "print(f\"{count}/{index+1}({count/(index + 1)}%)주소 변경을 완료하였습니다.\")"
   ],
   "metadata": {
    "collapsed": false,
    "pycharm": {
     "name": "#%%\n",
     "is_executing": true
    }
   }
  },
  {
   "cell_type": "code",
   "execution_count": 51,
   "outputs": [
    {
     "name": "stdout",
     "output_type": "stream",
     "text": [
      "0/974(0.0%)주소 변경을 완료하였습니다.\n",
      "(33677, 20)\n"
     ]
    }
   ],
   "source": [
    "print(f\"{count}/{index+1}({count/(index + 1)}%)주소 변경을 완료하였습니다.\")\n",
    "print(df.shape)"
   ],
   "metadata": {
    "collapsed": false,
    "pycharm": {
     "name": "#%%\n"
    }
   }
  },
  {
   "cell_type": "code",
   "execution_count": null,
   "outputs": [],
   "source": [
    "df.to_csv(\"../data/new.csv\")"
   ],
   "metadata": {
    "collapsed": false,
    "pycharm": {
     "name": "#%%\n"
    }
   }
  }
 ],
 "metadata": {
  "kernelspec": {
   "display_name": "Python 3",
   "language": "python",
   "name": "python3"
  },
  "language_info": {
   "codemirror_mode": {
    "name": "ipython",
    "version": 2
   },
   "file_extension": ".py",
   "mimetype": "text/x-python",
   "name": "python",
   "nbconvert_exporter": "python",
   "pygments_lexer": "ipython2",
   "version": "2.7.6"
  }
 },
 "nbformat": 4,
 "nbformat_minor": 0
}